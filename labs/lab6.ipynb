{
 "cells": [
  {
   "cell_type": "code",
   "execution_count": 1,
   "metadata": {},
   "outputs": [],
   "source": [
    "from sklearn.datasets import load_diabetes\n",
    "from sklearn.model_selection import train_test_split\n",
    "from sklearn.ensemble import StackingClassifier\n",
    "from sklearn.neural_network import MLPRegressor\n",
    "from sklearn.linear_model import LinearRegression\n",
    "from sklearn.svm import SVR\n",
    "from sklearn.metrics import mean_squared_error"
   ]
  },
  {
   "cell_type": "code",
   "execution_count": 2,
   "metadata": {},
   "outputs": [],
   "source": [
    "data = load_diabetes()\n",
    "X = data.data\n",
    "y = data.target"
   ]
  },
  {
   "cell_type": "code",
   "execution_count": null,
   "metadata": {},
   "outputs": [],
   "source": [
    "X_train, X_test, y_train, y_test = train_test_split(X, y, test_size=0.2, random_state=42, stratify=y)"
   ]
  },
  {
   "attachments": {},
   "cell_type": "markdown",
   "metadata": {},
   "source": [
    "Stacking Classifier (Стекинг)\n",
    "\n",
    "В вашем примере используются два базовых классификатора (случайный лес и градиентный бустинг), а их прогнозы передаются в логистическую регрессию, которая делает финальное предсказание."
   ]
  },
  {
   "cell_type": "code",
   "execution_count": null,
   "metadata": {},
   "outputs": [
    {
     "name": "stdout",
     "output_type": "stream",
     "text": [
      "Stacking Accuracy: 0.8101\n"
     ]
    }
   ],
   "source": [
    "base_learners = [\n",
    "    (\"rf\", RandomForestClassifier(n_estimators=100, random_state=42)),\n",
    "    (\"gb\", GradientBoostingClassifier(n_estimators=100, random_state=42))\n",
    "]\n",
    "stacking_model = StackingClassifier(estimators=base_learners, final_estimator=LogisticRegression())\n",
    "stacking_model.fit(X_train, y_train)\n",
    "y_pred_stacking = stacking_model.predict(X_test)\n",
    "stacking_accuracy = accuracy_score(y_test, y_pred_stacking)\n",
    "print(f\"Stacking Accuracy: {stacking_accuracy:.4f}\")"
   ]
  },
  {
   "attachments": {},
   "cell_type": "markdown",
   "metadata": {},
   "source": [
    " MLPClassifier (Многослойный персептрон)\n",
    " \n",
    "Каждое предсказание проходит через несколько слоев нейронов, каждый из которых обучается на предыдущих ошибках."
   ]
  },
  {
   "cell_type": "code",
   "execution_count": null,
   "metadata": {},
   "outputs": [
    {
     "name": "stdout",
     "output_type": "stream",
     "text": [
      "MLP Accuracy: 0.7877\n"
     ]
    }
   ],
   "source": [
    "mlp_model = MLPClassifier(hidden_layer_sizes=(50, 30), max_iter=500, random_state=42)\n",
    "mlp_model.fit(X_train, y_train)\n",
    "y_pred_mlp = mlp_model.predict(X_test)\n",
    "mlp_accuracy = accuracy_score(y_test, y_pred_mlp)\n",
    "print(f\"MLP Accuracy: {mlp_accuracy:.4f}\")"
   ]
  },
  {
   "cell_type": "code",
   "execution_count": null,
   "metadata": {},
   "outputs": [
    {
     "name": "stdout",
     "output_type": "stream",
     "text": [
      "<class 'numpy.ndarray'> (712, 7)\n",
      "<class 'numpy.ndarray'> (712,)\n"
     ]
    }
   ],
   "source": [
    "X_train_np = X_train.to_numpy(dtype=float)  # Преобразуем в numpy массив\n",
    "X_test_np = X_test.to_numpy(dtype=float)\n",
    "y_train_np = y_train.to_numpy(dtype=float).ravel()  # Делаем одномерным\n",
    "y_test_np = y_test.to_numpy(dtype=float).ravel()"
   ]
  },
  {
   "attachments": {},
   "cell_type": "markdown",
   "metadata": {},
   "source": [
    ". Combi (линейный метод GMDH)\n",
    "Описание: Combi — это линейный метод из семейства GMDH (генеративных моделей данных), который строит модель, используя линейные комбинации признаков.\n",
    "\n",
    "Как работает: Метод создает линейные модели для решения задачи классификации или регрессии, минимизируя ошибку на каждом шаге."
   ]
  },
  {
   "cell_type": "code",
   "execution_count": null,
   "metadata": {},
   "outputs": [
    {
     "name": "stdout",
     "output_type": "stream",
     "text": [
      "GMDH Linear (COMBI) Accuracy: 0.7765\n"
     ]
    }
   ],
   "source": [
    "gmdh_linear = Combi()\n",
    "gmdh_linear.fit(X_train_np, y_train_np)\n",
    "y_pred_gmdh_linear = gmdh_linear.predict(X_test).round().astype(int)\n",
    "gmdh_linear_accuracy = accuracy_score(y_test_np, y_pred_gmdh_linear)\n",
    "print(f\"GMDH Linear (COMBI) Accuracy: {gmdh_linear_accuracy:.4f}\")"
   ]
  },
  {
   "attachments": {},
   "cell_type": "markdown",
   "metadata": {},
   "source": [
    "Mia (нелинейный метод GMDH)\n",
    "\n",
    "Описание: Mia — это нелинейная модель GMDH, использующая более сложные структуры для построения зависимости между признаками.\n",
    "\n",
    "Как работает: В отличие от линейных методов, Mia создает более гибкие модели, которые могут учитывать нелинейные зависимости в данных."
   ]
  },
  {
   "cell_type": "code",
   "execution_count": null,
   "metadata": {},
   "outputs": [
    {
     "name": "stdout",
     "output_type": "stream",
     "text": [
      "GMDH Nonlinear (MIA) Accuracy: 0.7821\n"
     ]
    }
   ],
   "source": [
    "gmdh_nonlinear = Mia()\n",
    "gmdh_nonlinear.fit(X_train_np, y_train_np)\n",
    "y_pred_gmdh_nonlinear = gmdh_nonlinear.predict(X_test).round().astype(int)\n",
    "gmdh_nonlinear_accuracy = accuracy_score(y_test_np, y_pred_gmdh_nonlinear)\n",
    "print(f\"GMDH Nonlinear (MIA) Accuracy: {gmdh_nonlinear_accuracy:.4f}\")"
   ]
  }
 ],
 "metadata": {
  "kernelspec": {
   "display_name": "Python 3",
   "language": "python",
   "name": "python3"
  },
  "language_info": {
   "codemirror_mode": {
    "name": "ipython",
    "version": 3
   },
   "file_extension": ".py",
   "mimetype": "text/x-python",
   "name": "python",
   "nbconvert_exporter": "python",
   "pygments_lexer": "ipython3",
   "version": "3.9.13"
  }
 },
 "nbformat": 4,
 "nbformat_minor": 2
}
