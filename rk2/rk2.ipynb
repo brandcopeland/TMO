{
 "cells": [
  {
   "cell_type": "markdown",
   "id": "a3df8c2d",
   "metadata": {},
   "source": [
    "# РК2\n",
    "Фень Н.Т. ИУ5Ц-82Б\n",
    "Вариант 31"
   ]
  },
  {
   "cell_type": "code",
   "execution_count": 7,
   "id": "c862fc6a",
   "metadata": {},
   "outputs": [],
   "source": [
    "import pandas as pd\n",
    "from sklearn.model_selection import train_test_split\n",
    "from sklearn.preprocessing import StandardScaler\n",
    "from sklearn.svm import SVC\n",
    "from sklearn.ensemble import RandomForestClassifier\n",
    "from sklearn.metrics import accuracy_score, f1_score"
   ]
  },
  {
   "cell_type": "code",
   "execution_count": 9,
   "id": "239c82f3",
   "metadata": {},
   "outputs": [],
   "source": [
    "# Загрузка данных\n",
    "df = pd.read_csv(\"Default_Fin.csv\")"
   ]
  },
  {
   "cell_type": "code",
   "execution_count": 10,
   "id": "186f6f89",
   "metadata": {},
   "outputs": [],
   "source": [
    "# Удаление неинформативного столбца\n",
    "df = df.drop(columns=['Index'])"
   ]
  },
  {
   "cell_type": "code",
   "execution_count": 11,
   "id": "52113c29",
   "metadata": {},
   "outputs": [],
   "source": [
    "# Удаление строк с пропущенными значениями\n",
    "df = df.dropna()"
   ]
  },
  {
   "cell_type": "code",
   "execution_count": 12,
   "id": "20ca5c39",
   "metadata": {},
   "outputs": [],
   "source": [
    "# Отделение признаков и целевой переменной\n",
    "X = df.drop(columns=['Defaulted?'])\n",
    "y = df['Defaulted?']"
   ]
  },
  {
   "cell_type": "code",
   "execution_count": 13,
   "id": "f9318e40",
   "metadata": {},
   "outputs": [],
   "source": [
    "# Масштабирование признаков\n",
    "scaler = StandardScaler()\n",
    "X_scaled = scaler.fit_transform(X)"
   ]
  },
  {
   "cell_type": "code",
   "execution_count": 14,
   "id": "f802c637",
   "metadata": {},
   "outputs": [],
   "source": [
    "# Разделение на обучающую и тестовую выборки\n",
    "X_train, X_test, y_train, y_test = train_test_split(\n",
    "    X_scaled, y, test_size=0.2, random_state=42\n",
    ")"
   ]
  },
  {
   "cell_type": "code",
   "execution_count": 15,
   "id": "586be3b8",
   "metadata": {},
   "outputs": [],
   "source": [
    "# Обучение модели SVM\n",
    "svm_model = SVC(kernel='rbf', probability=True, random_state=42)\n",
    "svm_model.fit(X_train, y_train)\n",
    "svm_pred = svm_model.predict(X_test)"
   ]
  },
  {
   "cell_type": "code",
   "execution_count": 16,
   "id": "e115824a",
   "metadata": {},
   "outputs": [],
   "source": [
    "# Обучение модели Random Forest\n",
    "rf_model = RandomForestClassifier(n_estimators=100, random_state=42)\n",
    "rf_model.fit(X_train, y_train)\n",
    "rf_pred = rf_model.predict(X_test)"
   ]
  },
  {
   "cell_type": "code",
   "execution_count": 17,
   "id": "fa7bd485",
   "metadata": {},
   "outputs": [],
   "source": [
    "# Оценка качества моделей\n",
    "svm_accuracy = accuracy_score(y_test, svm_pred)\n",
    "rf_accuracy = accuracy_score(y_test, rf_pred)\n",
    "svm_f1 = f1_score(y_test, svm_pred)\n",
    "rf_f1 = f1_score(y_test, rf_pred)"
   ]
  },
  {
   "cell_type": "code",
   "execution_count": 18,
   "id": "2eed064d",
   "metadata": {},
   "outputs": [],
   "source": [
    "# Вывод результатов\n",
    "results = pd.DataFrame({\n",
    "    'Model': ['SVM', 'Random Forest'],\n",
    "    'Accuracy': [svm_accuracy, rf_accuracy],\n",
    "    'F1 Score': [svm_f1, rf_f1]\n",
    "})"
   ]
  },
  {
   "cell_type": "code",
   "execution_count": 19,
   "id": "3b0b132d",
   "metadata": {},
   "outputs": [
    {
     "name": "stdout",
     "output_type": "stream",
     "text": [
      "           Model  Accuracy  F1 Score\n",
      "0            SVM    0.9680  0.255814\n",
      "1  Random Forest    0.9645  0.360360\n"
     ]
    }
   ],
   "source": [
    "print(results)"
   ]
  },
  {
   "cell_type": "markdown",
   "id": "e76b57d8",
   "metadata": {},
   "source": [
    "### Используемые метрики\n",
    "\n",
    "- **Accuracy (точность)** — показывает долю правильно предсказанных наблюдений. Подходит при относительно сбалансированных классах.\n",
    "- **F1 Score** — гармоническое среднее между precision и recall. Особенно полезна при несбалансированных классах, так как учитывает как ложные срабатывания, так и пропущенные случаи.\n",
    "\n",
    "### Вывод\n",
    "\n",
    "- Обе модели показали высокую точность (>96%), что говорит о хорошем общем качестве классификации.\n",
    "- Однако Random Forest имеет значительно более высокий F1 Score, что говорит о лучшем балансе между precision и recall.\n",
    "- Следовательно, **модель Random Forest предпочтительнее**\n"
   ]
  }
 ],
 "metadata": {
  "kernelspec": {
   "display_name": ".venv",
   "language": "python",
   "name": "python3"
  },
  "language_info": {
   "codemirror_mode": {
    "name": "ipython",
    "version": 3
   },
   "file_extension": ".py",
   "mimetype": "text/x-python",
   "name": "python",
   "nbconvert_exporter": "python",
   "pygments_lexer": "ipython3",
   "version": "3.12.3"
  }
 },
 "nbformat": 4,
 "nbformat_minor": 5
}
